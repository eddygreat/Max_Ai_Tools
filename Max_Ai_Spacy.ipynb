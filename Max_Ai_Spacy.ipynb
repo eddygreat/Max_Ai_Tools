{
  "nbformat": 4,
  "nbformat_minor": 0,
  "metadata": {
    "colab": {
      "provenance": []
    },
    "kernelspec": {
      "name": "python3",
      "display_name": "Python 3"
    },
    "language_info": {
      "name": "python"
    }
  },
  "cells": [
    {
      "cell_type": "code",
      "execution_count": 1,
      "metadata": {
        "colab": {
          "base_uri": "https://localhost:8080/",
          "height": 681
        },
        "id": "Hu119iFciSFy",
        "outputId": "22db01fa-f189-4bcc-ad5d-64922ea90350"
      },
      "outputs": [
        {
          "output_type": "stream",
          "name": "stdout",
          "text": [
            "\n",
            "Review: I love my new Apple iPhone 14 Pro. The camera is amazing!\n",
            "Entities:\n",
            " - Apple (ORG)\n",
            " - iPhone 14 Pro (PRODUCT)\n",
            "Sentiment: Positive\n"
          ]
        },
        {
          "output_type": "display_data",
          "data": {
            "text/plain": [
              "<IPython.core.display.HTML object>"
            ],
            "text/html": [
              "<span class=\"tex2jax_ignore\"><div class=\"entities\" style=\"line-height: 2.5; direction: ltr\">I love my new \n",
              "<mark class=\"entity\" style=\"background: #7aecec; padding: 0.45em 0.6em; margin: 0 0.25em; line-height: 1; border-radius: 0.35em;\">\n",
              "    Apple\n",
              "    <span style=\"font-size: 0.8em; font-weight: bold; line-height: 1; border-radius: 0.35em; vertical-align: middle; margin-left: 0.5rem\">ORG</span>\n",
              "</mark>\n",
              " \n",
              "<mark class=\"entity\" style=\"background: #bfeeb7; padding: 0.45em 0.6em; margin: 0 0.25em; line-height: 1; border-radius: 0.35em;\">\n",
              "    iPhone 14 Pro\n",
              "    <span style=\"font-size: 0.8em; font-weight: bold; line-height: 1; border-radius: 0.35em; vertical-align: middle; margin-left: 0.5rem\">PRODUCT</span>\n",
              "</mark>\n",
              ". The camera is amazing!</div></span>"
            ]
          },
          "metadata": {}
        },
        {
          "output_type": "stream",
          "name": "stdout",
          "text": [
            "\n",
            "Review: This Samsung Galaxy S22 is overpriced and the battery dies quickly.\n",
            "Entities:\n",
            "Sentiment: Negative\n"
          ]
        },
        {
          "output_type": "stream",
          "name": "stderr",
          "text": [
            "/usr/local/lib/python3.12/dist-packages/spacy/displacy/__init__.py:213: UserWarning: [W006] No entities to visualize found in Doc object. If this is surprising to you, make sure the Doc was processed using a model that supports named entity recognition, and check the `doc.ents` property manually if necessary.\n",
            "  warnings.warn(Warnings.W006)\n"
          ]
        },
        {
          "output_type": "display_data",
          "data": {
            "text/plain": [
              "<IPython.core.display.HTML object>"
            ],
            "text/html": [
              "<span class=\"tex2jax_ignore\"><div class=\"entities\" style=\"line-height: 2.5; direction: ltr\">This Samsung Galaxy S22 is overpriced and the battery dies quickly.</div></span>"
            ]
          },
          "metadata": {}
        },
        {
          "output_type": "stream",
          "name": "stdout",
          "text": [
            "\n",
            "Review: The Sony WH-1000XM5 headphones are incredibly comfortable and sound great.\n",
            "Entities:\n",
            " - Sony (ORG)\n",
            "Sentiment: Positive\n"
          ]
        },
        {
          "output_type": "display_data",
          "data": {
            "text/plain": [
              "<IPython.core.display.HTML object>"
            ],
            "text/html": [
              "<span class=\"tex2jax_ignore\"><div class=\"entities\" style=\"line-height: 2.5; direction: ltr\">The \n",
              "<mark class=\"entity\" style=\"background: #7aecec; padding: 0.45em 0.6em; margin: 0 0.25em; line-height: 1; border-radius: 0.35em;\">\n",
              "    Sony\n",
              "    <span style=\"font-size: 0.8em; font-weight: bold; line-height: 1; border-radius: 0.35em; vertical-align: middle; margin-left: 0.5rem\">ORG</span>\n",
              "</mark>\n",
              " WH-1000XM5 headphones are incredibly comfortable and sound great.</div></span>"
            ]
          },
          "metadata": {}
        },
        {
          "output_type": "stream",
          "name": "stdout",
          "text": [
            "\n",
            "Review: Avoid this Lenovo laptop — it's slow and crashes often.\n",
            "Entities:\n",
            " - Lenovo (ORG)\n",
            "Sentiment: Negative\n"
          ]
        },
        {
          "output_type": "display_data",
          "data": {
            "text/plain": [
              "<IPython.core.display.HTML object>"
            ],
            "text/html": [
              "<span class=\"tex2jax_ignore\"><div class=\"entities\" style=\"line-height: 2.5; direction: ltr\">Avoid this \n",
              "<mark class=\"entity\" style=\"background: #7aecec; padding: 0.45em 0.6em; margin: 0 0.25em; line-height: 1; border-radius: 0.35em;\">\n",
              "    Lenovo\n",
              "    <span style=\"font-size: 0.8em; font-weight: bold; line-height: 1; border-radius: 0.35em; vertical-align: middle; margin-left: 0.5rem\">ORG</span>\n",
              "</mark>\n",
              " laptop — it's slow and crashes often.</div></span>"
            ]
          },
          "metadata": {}
        },
        {
          "output_type": "stream",
          "name": "stdout",
          "text": [
            "\n",
            "Review: My new Nike running shoes are perfect for long distances!\n",
            "Entities:\n",
            " - Nike (ORG)\n",
            "Sentiment: Positive\n"
          ]
        },
        {
          "output_type": "display_data",
          "data": {
            "text/plain": [
              "<IPython.core.display.HTML object>"
            ],
            "text/html": [
              "<span class=\"tex2jax_ignore\"><div class=\"entities\" style=\"line-height: 2.5; direction: ltr\">My new \n",
              "<mark class=\"entity\" style=\"background: #7aecec; padding: 0.45em 0.6em; margin: 0 0.25em; line-height: 1; border-radius: 0.35em;\">\n",
              "    Nike\n",
              "    <span style=\"font-size: 0.8em; font-weight: bold; line-height: 1; border-radius: 0.35em; vertical-align: middle; margin-left: 0.5rem\">ORG</span>\n",
              "</mark>\n",
              " running shoes are perfect for long distances!</div></span>"
            ]
          },
          "metadata": {}
        }
      ],
      "source": [
        "# Step 1: Install and import spaCy\n",
        "# Uncomment below if running for the first time\n",
        "# !pip install spacy\n",
        "# !python -m spacy download en_core_web_sm\n",
        "\n",
        "import spacy\n",
        "from spacy import displacy\n",
        "\n",
        "# Step 2: Load spaCy's English model\n",
        "nlp = spacy.load(\"en_core_web_sm\")\n",
        "\n",
        "# Step 3: Sample Amazon product reviews\n",
        "reviews = [\n",
        "    \"I love my new Apple iPhone 14 Pro. The camera is amazing!\",\n",
        "    \"This Samsung Galaxy S22 is overpriced and the battery dies quickly.\",\n",
        "    \"The Sony WH-1000XM5 headphones are incredibly comfortable and sound great.\",\n",
        "    \"Avoid this Lenovo laptop — it's slow and crashes often.\",\n",
        "    \"My new Nike running shoes are perfect for long distances!\"\n",
        "]\n",
        "\n",
        "# Step 4: Define rule-based sentiment analyzer\n",
        "def analyze_sentiment(text):\n",
        "    positive_words = [\"love\", \"amazing\", \"great\", \"perfect\", \"comfortable\", \"incredible\"]\n",
        "    negative_words = [\"overpriced\", \"dies\", \"slow\", \"crashes\", \"avoid\"]\n",
        "\n",
        "    text_lower = text.lower()\n",
        "    pos_score = sum(word in text_lower for word in positive_words)\n",
        "    neg_score = sum(word in text_lower for word in negative_words)\n",
        "\n",
        "    if pos_score > neg_score:\n",
        "        return \"Positive\"\n",
        "    elif neg_score > pos_score:\n",
        "        return \"Negative\"\n",
        "    else:\n",
        "        return \"Neutral\"\n",
        "\n",
        "# Step 5: Process each review\n",
        "for review in reviews:\n",
        "    doc = nlp(review)\n",
        "    print(f\"\\nReview: {review}\")\n",
        "\n",
        "    # Named Entity Recognition\n",
        "    print(\"Entities:\")\n",
        "    for ent in doc.ents:\n",
        "        if ent.label_ in [\"PRODUCT\", \"ORG\"]:\n",
        "            print(f\" - {ent.text} ({ent.label_})\")\n",
        "\n",
        "    # Sentiment Analysis\n",
        "    sentiment = analyze_sentiment(review)\n",
        "    print(f\"Sentiment: {sentiment}\")\n",
        "\n",
        "    # Optional: Visualize entities inline (works best in Jupyter)\n",
        "    # displacy.render(doc, style=\"ent\", jupyter=True)"
      ]
    }
  ]
}